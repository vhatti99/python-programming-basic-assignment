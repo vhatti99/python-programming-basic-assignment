{
 "cells": [
  {
   "cell_type": "code",
   "execution_count": 1,
   "metadata": {},
   "outputs": [
    {
     "name": "stdout",
     "output_type": "stream",
     "text": [
      "[14, 12, 10]\n",
      "[9, 11, 10]\n",
      "[42, 23, 5]\n"
     ]
    }
   ],
   "source": [
    "#1  Write a Python Program to Add Two Matrices?\n",
    "\n",
    "X = [[11,3,8],\n",
    "    [3,4,4],\n",
    "    [34 ,18,5]]\n",
    "\n",
    "Y = [[3,9,2],\n",
    "    [6,7,6],\n",
    "    [8,5,0]]\n",
    "\n",
    "result = [[X[i][j] + Y[i][j]  for j in range(len(X[0]))] for i in range(len(X))]\n",
    "\n",
    "for r in result:\n",
    "    print(r)"
   ]
  },
  {
   "cell_type": "code",
   "execution_count": 2,
   "metadata": {},
   "outputs": [
    {
     "name": "stdout",
     "output_type": "stream",
     "text": [
      "[115, 160, 40]\n",
      "[65, 75, 30]\n",
      "[250, 457, 176]\n"
     ]
    }
   ],
   "source": [
    "#2  Write a Python Program to Multiply Two Matrices?\n",
    "\n",
    "A = [[11,3,8],\n",
    "    [3,4,4],\n",
    "    [34 ,18,5]]\n",
    "\n",
    "B = [[3,9,2],\n",
    "    [6,7,6],\n",
    "    [8,5,0]]\n",
    "result = [[sum(a * b for a, b in zip(A_row, B_col))\n",
    "                        for B_col in zip(*B)]\n",
    "                                for A_row in A]\n",
    " \n",
    "for r in result:\n",
    "    print(r)"
   ]
  },
  {
   "cell_type": "code",
   "execution_count": 3,
   "metadata": {},
   "outputs": [
    {
     "name": "stdout",
     "output_type": "stream",
     "text": [
      "[15, 3, 2]\n",
      "[9, 4, 7]\n"
     ]
    }
   ],
   "source": [
    "#3  Write a Python Program to Transpose a Matrix?\n",
    "\n",
    "X = [[15,9],\n",
    "    [3 ,4],\n",
    "    [2 ,7]]\n",
    "\n",
    "result = [[X[j][i] for j in range(len(X))] for i in range(len(X[0]))]\n",
    "\n",
    "for r in result:\n",
    "    print(r)"
   ]
  },
  {
   "cell_type": "code",
   "execution_count": 4,
   "metadata": {},
   "outputs": [
    {
     "name": "stdout",
     "output_type": "stream",
     "text": [
      "sorted words are:\n",
      "an\n",
      "assignment\n",
      "for\n",
      "hello\n",
      "is\n",
      "me\n",
      "this\n"
     ]
    }
   ],
   "source": [
    "#4  Write a Python Program to Sort Words in Alphabetic Order?\n",
    "\n",
    "my_str = \"Hello this is an assignment for me\"\n",
    "\n",
    "words = [word.lower() for word in my_str.split()]\n",
    "\n",
    "words.sort()\n",
    "\n",
    "print(\"sorted words are:\")\n",
    "for word in words:\n",
    "    print(word)"
   ]
  },
  {
   "cell_type": "code",
   "execution_count": 5,
   "metadata": {},
   "outputs": [
    {
     "name": "stdout",
     "output_type": "stream",
     "text": [
      "Hello he said and went\n"
     ]
    }
   ],
   "source": [
    "#5  Write a Python Program to Remove Punctuation From a String?\n",
    "\n",
    "\n",
    "punctuations = '''!()-[]{};:'\"\\,<>./?@#$%^&*_~'''\n",
    "\n",
    "my_str = \"Hello!!!, he said ---and went.\"\n",
    "\n",
    "\n",
    "no_punct = \"\"\n",
    "for char in my_str:\n",
    "    if char not in punctuations:\n",
    "        no_punct = no_punct + char\n",
    "\n",
    "\n",
    "print(no_punct)"
   ]
  },
  {
   "cell_type": "code",
   "execution_count": null,
   "metadata": {},
   "outputs": [],
   "source": []
  }
 ],
 "metadata": {
  "kernelspec": {
   "display_name": "Python 3",
   "language": "python",
   "name": "python3"
  },
  "language_info": {
   "codemirror_mode": {
    "name": "ipython",
    "version": 3
   },
   "file_extension": ".py",
   "mimetype": "text/x-python",
   "name": "python",
   "nbconvert_exporter": "python",
   "pygments_lexer": "ipython3",
   "version": "3.8.3"
  }
 },
 "nbformat": 4,
 "nbformat_minor": 4
}
